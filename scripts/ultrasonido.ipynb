{
 "cells": [
  {
   "cell_type": "markdown",
   "id": "ffb2970e",
   "metadata": {},
   "source": [
    "# Ultrasound Data Processing"
   ]
  },
  {
   "cell_type": "markdown",
   "id": "ca1f3ce5",
   "metadata": {},
   "source": [
    "## Libraries\n",
    "---"
   ]
  },
  {
   "cell_type": "code",
   "execution_count": 74,
   "id": "c8ed25e1",
   "metadata": {},
   "outputs": [],
   "source": [
    "import pandas as pd\n",
    "import numpy as np\n",
    "import matplotlib.pyplot as plt"
   ]
  },
  {
   "cell_type": "markdown",
   "id": "12ea06cd",
   "metadata": {},
   "source": [
    "## Import data\n",
    "---"
   ]
  },
  {
   "cell_type": "code",
   "execution_count": 60,
   "id": "560daeb8",
   "metadata": {},
   "outputs": [],
   "source": [
    "df1 = pd.read_csv(\"./data1.csv\", index_col=0, header=None).T\n",
    "df2 = pd.read_csv(\"./data2.csv\", index_col=0, header=None).T\n",
    "df3 = pd.read_csv(\"./data3.csv\", index_col=0, header=None).T"
   ]
  },
  {
   "cell_type": "markdown",
   "id": "a81d4353",
   "metadata": {},
   "source": [
    "## Set constants\n",
    "---"
   ]
  },
  {
   "cell_type": "code",
   "execution_count": 92,
   "id": "a2981f05",
   "metadata": {},
   "outputs": [],
   "source": [
    "real1 = 100\n",
    "real2 = 150\n",
    "real3 = 200\n",
    "reals = [real1, real2, real3]"
   ]
  },
  {
   "cell_type": "markdown",
   "id": "6ec1f7ce",
   "metadata": {},
   "source": [
    "## Mean\n",
    "---"
   ]
  },
  {
   "cell_type": "code",
   "execution_count": 64,
   "id": "bb0d391b",
   "metadata": {},
   "outputs": [
    {
     "data": {
      "text/plain": [
       "65.88850000000001"
      ]
     },
     "execution_count": 64,
     "metadata": {},
     "output_type": "execute_result"
    }
   ],
   "source": [
    "df1[\"measure\"].mean()"
   ]
  },
  {
   "cell_type": "code",
   "execution_count": 65,
   "id": "56bfec2c",
   "metadata": {},
   "outputs": [
    {
     "data": {
      "text/plain": [
       "65.88850000000001"
      ]
     },
     "execution_count": 65,
     "metadata": {},
     "output_type": "execute_result"
    }
   ],
   "source": [
    "df2[\"measure\"].mean()"
   ]
  },
  {
   "cell_type": "code",
   "execution_count": 66,
   "id": "6a81d209",
   "metadata": {},
   "outputs": [
    {
     "data": {
      "text/plain": [
       "65.88850000000001"
      ]
     },
     "execution_count": 66,
     "metadata": {},
     "output_type": "execute_result"
    }
   ],
   "source": [
    "df3[\"measure\"].mean()"
   ]
  },
  {
   "cell_type": "markdown",
   "id": "c723f7c5",
   "metadata": {},
   "source": [
    "## Standar deviation\n",
    "---"
   ]
  },
  {
   "cell_type": "code",
   "execution_count": 67,
   "id": "b37bf1ae",
   "metadata": {},
   "outputs": [
    {
     "data": {
      "text/plain": [
       "0.1499520125260292"
      ]
     },
     "execution_count": 67,
     "metadata": {},
     "output_type": "execute_result"
    }
   ],
   "source": [
    "df1[\"measure\"].std()"
   ]
  },
  {
   "cell_type": "code",
   "execution_count": 68,
   "id": "d32e53fd",
   "metadata": {},
   "outputs": [
    {
     "data": {
      "text/plain": [
       "0.1499520125260292"
      ]
     },
     "execution_count": 68,
     "metadata": {},
     "output_type": "execute_result"
    }
   ],
   "source": [
    "df2[\"measure\"].std()"
   ]
  },
  {
   "cell_type": "code",
   "execution_count": 69,
   "id": "e4f2ed53",
   "metadata": {},
   "outputs": [
    {
     "data": {
      "text/plain": [
       "0.1499520125260292"
      ]
     },
     "execution_count": 69,
     "metadata": {},
     "output_type": "execute_result"
    }
   ],
   "source": [
    "df3[\"measure\"].std()"
   ]
  },
  {
   "cell_type": "markdown",
   "id": "1fd02601",
   "metadata": {},
   "source": [
    "## Absolute and relative errors\n",
    "---"
   ]
  },
  {
   "cell_type": "code",
   "execution_count": 70,
   "id": "56825b91",
   "metadata": {},
   "outputs": [],
   "source": [
    "df1[\"Error_abs\"] = df1[\"measure\"].apply(lambda x:abs(x-real1))\n",
    "df1[\"Error_rel\"] = df1[\"measure\"].apply(lambda x:abs(x-real1)/real1)"
   ]
  },
  {
   "cell_type": "code",
   "execution_count": 71,
   "id": "42b9043d",
   "metadata": {},
   "outputs": [],
   "source": [
    "df2[\"Error_abs\"] = df2[\"measure\"].apply(lambda x:abs(x-real2))\n",
    "df2[\"Error_rel\"] = df2[\"measure\"].apply(lambda x:abs(x-real2)/real2)"
   ]
  },
  {
   "cell_type": "code",
   "execution_count": 72,
   "id": "6f48dffc",
   "metadata": {},
   "outputs": [],
   "source": [
    "df3[\"Error_abs\"] = df3[\"measure\"].apply(lambda x:abs(x-real3))\n",
    "df3[\"Error_rel\"] = df3[\"measure\"].apply(lambda x:abs(x-real3)/real3)"
   ]
  },
  {
   "cell_type": "markdown",
   "id": "7b6d424a",
   "metadata": {},
   "source": [
    "## Plots\n",
    "---"
   ]
  },
  {
   "cell_type": "markdown",
   "id": "6d2dbe03",
   "metadata": {},
   "source": [
    "Distance vs Sample"
   ]
  },
  {
   "cell_type": "code",
   "execution_count": 96,
   "id": "39d76d9e",
   "metadata": {},
   "outputs": [
    {
     "data": {
      "image/png": "[encoded data removed]",
      "text/plain": [
       "<Figure size 432x288 with 1 Axes>"
      ]
     },
     "metadata": {
      "needs_background": "light"
     },
     "output_type": "display_data"
    }
   ],
   "source": [
    "plt.scatter(range(100), df1[\"measure\"])\n",
    "plt.title(\"Distance vs Sample - Groundtruth: {0:.2f}\".format(real1))\n",
    "plt.xlabel(\"Sample\")\n",
    "plt.ylabel(\"Distance\")\n",
    "plt.grid()"
   ]
  },
  {
   "cell_type": "markdown",
   "id": "d7ccfde6",
   "metadata": {},
   "source": [
    "Histogram"
   ]
  },
  {
   "cell_type": "code",
   "execution_count": 82,
   "id": "bc23db62",
   "metadata": {},
   "outputs": [
    {
     "data": {
      "text/plain": [
       "<AxesSubplot:>"
      ]
     },
     "execution_count": 82,
     "metadata": {},
     "output_type": "execute_result"
    },
    {
     "data": {
      "image/png": "[encoded data removed]",
      "text/plain": [
       "<Figure size 432x288 with 1 Axes>"
      ]
     },
     "metadata": {
      "needs_background": "light"
     },
     "output_type": "display_data"
    }
   ],
   "source": [
    "df1[\"measure\"].hist()"
   ]
  },
  {
   "cell_type": "markdown",
   "id": "51b519c4",
   "metadata": {},
   "source": [
    "Absolute and Relative Errors"
   ]
  },
  {
   "cell_type": "code",
   "execution_count": 83,
   "id": "a6767a72",
   "metadata": {},
   "outputs": [],
   "source": [
    "errors_abs = [abs(df1[\"measure\"].mean()-real1), abs(df2[\"measure\"].mean()-real2), abs(df3[\"measure\"].mean()-real3)]"
   ]
  },
  {
   "cell_type": "code",
   "execution_count": 84,
   "id": "ce85dc51",
   "metadata": {},
   "outputs": [],
   "source": [
    "errors_rel = [abs(df1[\"measure\"].mean()-real1)/real1, abs(df2[\"measure\"].mean()-real2)/real2, abs(df3[\"measure\"].mean()-real3)/real3]"
   ]
  },
  {
   "cell_type": "code",
   "execution_count": 94,
   "id": "6d86872b",
   "metadata": {},
   "outputs": [
    {
     "data": {
      "text/plain": [
       "Text(0, 0.5, 'Error')"
      ]
     },
     "execution_count": 94,
     "metadata": {},
     "output_type": "execute_result"
    },
    {
     "data": {
      "image/png": "[encoded data removed]",
      "text/plain": [
       "<Figure size 432x288 with 1 Axes>"
      ]
     },
     "metadata": {
      "needs_background": "light"
     },
     "output_type": "display_data"
    }
   ],
   "source": [
    "plt.scatter(reals, errors_abs)\n",
    "plt.grid()\n",
    "plt.title(\"Absolute errors\")\n",
    "plt.xlabel(\"Real distance\")\n",
    "plt.ylabel(\"Error\")"
   ]
  },
  {
   "cell_type": "code",
   "execution_count": 93,
   "id": "dbea359f",
   "metadata": {},
   "outputs": [
    {
     "data": {
      "text/plain": [
       "Text(0.5, 0, '')"
      ]
     },
     "execution_count": 93,
     "metadata": {},
     "output_type": "execute_result"
    },
    {
     "data": {
      "image/png": "[encoded data removed]",
      "text/plain": [
       "<Figure size 432x288 with 1 Axes>"
      ]
     },
     "metadata": {
      "needs_background": "light"
     },
     "output_type": "display_data"
    }
   ],
   "source": [
    "plt.scatter(reals, errors_rel)\n",
    "plt.grid()\n",
    "plt.title(\"Relative errors\")\n",
    "plt.xlabel(\"Real distance\")\n",
    "plt.ylabel(\"Error\")"
   ]
  }
 ],
 "metadata": {
  "kernelspec": {
   "display_name": "Python 3",
   "language": "python",
   "name": "python3"
  },
  "language_info": {
   "codemirror_mode": {
    "name": "ipython",
    "version": 3
   },
   "file_extension": ".py",
   "mimetype": "text/x-python",
   "name": "python",
   "nbconvert_exporter": "python",
   "pygments_lexer": "ipython3",
   "version": "3.8.8"
  }
 },
 "nbformat": 4,
 "nbformat_minor": 5
}
